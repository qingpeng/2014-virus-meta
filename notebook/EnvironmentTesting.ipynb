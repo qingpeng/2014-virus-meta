{
 "metadata": {
  "name": "",
  "signature": "sha256:7dbd8f8f08bcd40567dae86ca58b44dc9be337b4ebd5a90d126cea7d3cd9749f"
 },
 "nbformat": 3,
 "nbformat_minor": 0,
 "worksheets": [
  {
   "cells": [
    {
     "cell_type": "code",
     "collapsed": false,
     "input": [
      "profile_dir = get_ipython().profile_dir.location "
     ],
     "language": "python",
     "metadata": {},
     "outputs": [],
     "prompt_number": 1
    },
    {
     "cell_type": "code",
     "collapsed": false,
     "input": [
      "profile_dir"
     ],
     "language": "python",
     "metadata": {},
     "outputs": [
      {
       "metadata": {},
       "output_type": "pyout",
       "prompt_number": 2,
       "text": [
        "u'/Users/qingpeng/.ipython/profile_default'"
       ]
      }
     ],
     "prompt_number": 2
    },
    {
     "cell_type": "code",
     "collapsed": false,
     "input": [
      "import os\n",
      "tgt = os.path.join( profile_dir, 'static', 'custom')\n",
      "!git clone https://github.com/ipython-contrib/IPython-notebook-extensions.git $tgt"
     ],
     "language": "python",
     "metadata": {},
     "outputs": [
      {
       "output_type": "stream",
       "stream": "stdout",
       "text": [
        "Cloning into '/Users/qingpeng/.ipython/profile_default/static/custom'...\r\n"
       ]
      },
      {
       "output_type": "stream",
       "stream": "stdout",
       "text": [
        "remote: Reusing existing pack: 842, done.\u001b[K\r\n",
        "remote: Counting objects: 4, done.\u001b[K\r\n",
        "remote: Compressing objects:  25% (1/4)   \u001b[K\r",
        "remote: Compressing objects:  50% (2/4)   \u001b[K\r",
        "remote: Compressing objects:  75% (3/4)   \u001b[K\r",
        "remote: Compressing objects: 100% (4/4)   \u001b[K\r",
        "remote: Compressing objects: 100% (4/4), done.\u001b[K\r\n"
       ]
      },
      {
       "output_type": "stream",
       "stream": "stdout",
       "text": [
        "Receiving objects:   0% (1/846)   \r",
        "Receiving objects:   1% (9/846)   \r",
        "Receiving objects:   2% (17/846)   \r",
        "Receiving objects:   3% (26/846)   \r",
        "Receiving objects:   4% (34/846)   \r",
        "Receiving objects:   5% (43/846)   \r",
        "Receiving objects:   6% (51/846)   \r",
        "Receiving objects:   7% (60/846)   \r",
        "Receiving objects:   8% (68/846)   \r",
        "Receiving objects:   9% (77/846)   \r",
        "Receiving objects:  10% (85/846)   \r",
        "Receiving objects:  11% (94/846)   \r",
        "Receiving objects:  12% (102/846)   \r",
        "Receiving objects:  13% (110/846)   \r",
        "Receiving objects:  14% (119/846)   \r"
       ]
      },
      {
       "output_type": "stream",
       "stream": "stdout",
       "text": [
        "Receiving objects:  15% (127/846)   \r",
        "Receiving objects:  16% (136/846)   \r",
        "Receiving objects:  17% (144/846)   \r",
        "Receiving objects:  18% (153/846)   \r",
        "Receiving objects:  19% (161/846)   \r",
        "Receiving objects:  20% (170/846)   \r",
        "Receiving objects:  21% (178/846)   \r",
        "Receiving objects:  22% (187/846)   \r",
        "Receiving objects:  23% (195/846)   \r",
        "Receiving objects:  24% (204/846)   \r"
       ]
      },
      {
       "output_type": "stream",
       "stream": "stdout",
       "text": [
        "Receiving objects:  25% (212/846)   \r",
        "Receiving objects:  26% (220/846)   \r",
        "Receiving objects:  27% (229/846)   \r"
       ]
      },
      {
       "output_type": "stream",
       "stream": "stdout",
       "text": [
        "Receiving objects:  28% (237/846)   \r",
        "Receiving objects:  29% (246/846)   \r"
       ]
      },
      {
       "output_type": "stream",
       "stream": "stdout",
       "text": [
        "Receiving objects:  30% (254/846)   \r"
       ]
      },
      {
       "output_type": "stream",
       "stream": "stdout",
       "text": [
        "Receiving objects:  30% (258/846), 548.00 KiB | 541.00 KiB/s   \r"
       ]
      },
      {
       "output_type": "stream",
       "stream": "stdout",
       "text": [
        "Receiving objects:  30% (259/846), 1.07 MiB | 531.00 KiB/s   \r"
       ]
      },
      {
       "output_type": "stream",
       "stream": "stdout",
       "text": [
        "Receiving objects:  30% (261/846), 1.53 MiB | 464.00 KiB/s   \r"
       ]
      },
      {
       "output_type": "stream",
       "stream": "stdout",
       "text": [
        "Receiving objects:  31% (263/846), 1.78 MiB | 465.00 KiB/s   \r"
       ]
      },
      {
       "output_type": "stream",
       "stream": "stdout",
       "text": [
        "Receiving objects:  31% (264/846), 1.78 MiB | 465.00 KiB/s   \r"
       ]
      },
      {
       "output_type": "stream",
       "stream": "stdout",
       "text": [
        "Receiving objects:  32% (271/846), 2.04 MiB | 474.00 KiB/s   \r",
        "Receiving objects:  33% (280/846), 2.04 MiB | 474.00 KiB/s   \r",
        "Receiving objects:  34% (288/846), 2.04 MiB | 474.00 KiB/s   \r",
        "Receiving objects:  35% (297/846), 2.04 MiB | 474.00 KiB/s   \r",
        "Receiving objects:  36% (305/846), 2.04 MiB | 474.00 KiB/s   \r"
       ]
      },
      {
       "output_type": "stream",
       "stream": "stdout",
       "text": [
        "Receiving objects:  37% (314/846), 2.04 MiB | 474.00 KiB/s   \r",
        "Receiving objects:  38% (322/846), 2.04 MiB | 474.00 KiB/s   \r",
        "Receiving objects:  39% (330/846), 2.04 MiB | 474.00 KiB/s   \r"
       ]
      },
      {
       "output_type": "stream",
       "stream": "stdout",
       "text": [
        "Receiving objects:  40% (339/846), 2.04 MiB | 474.00 KiB/s   \r"
       ]
      },
      {
       "output_type": "stream",
       "stream": "stdout",
       "text": [
        "Receiving objects:  40% (346/846), 2.37 MiB | 493.00 KiB/s   \r"
       ]
      },
      {
       "output_type": "stream",
       "stream": "stdout",
       "text": [
        "Receiving objects:  41% (347/846), 2.37 MiB | 493.00 KiB/s   \r"
       ]
      },
      {
       "output_type": "stream",
       "stream": "stdout",
       "text": [
        "Receiving objects:  42% (356/846), 2.37 MiB | 493.00 KiB/s   \r",
        "Receiving objects:  43% (364/846), 2.37 MiB | 493.00 KiB/s   \r",
        "Receiving objects:  44% (373/846), 2.37 MiB | 493.00 KiB/s   \r",
        "Receiving objects:  45% (381/846), 2.37 MiB | 493.00 KiB/s   \r",
        "Receiving objects:  46% (390/846), 2.37 MiB | 493.00 KiB/s   \r",
        "Receiving objects:  47% (398/846), 2.37 MiB | 493.00 KiB/s   \r",
        "Receiving objects:  48% (407/846), 2.37 MiB | 493.00 KiB/s   \r",
        "Receiving objects:  49% (415/846), 2.37 MiB | 493.00 KiB/s   \r",
        "Receiving objects:  50% (423/846), 2.37 MiB | 493.00 KiB/s   \r"
       ]
      },
      {
       "output_type": "stream",
       "stream": "stdout",
       "text": [
        "Receiving objects:  51% (432/846), 2.37 MiB | 493.00 KiB/s   \r",
        "Receiving objects:  52% (440/846), 2.37 MiB | 493.00 KiB/s   \r",
        "Receiving objects:  53% (449/846), 2.37 MiB | 493.00 KiB/s   \r",
        "Receiving objects:  54% (457/846), 2.37 MiB | 493.00 KiB/s   \r",
        "Receiving objects:  55% (466/846), 2.37 MiB | 493.00 KiB/s   \r",
        "Receiving objects:  56% (474/846), 2.37 MiB | 493.00 KiB/s   \r",
        "Receiving objects:  57% (483/846), 2.37 MiB | 493.00 KiB/s   \r",
        "Receiving objects:  58% (491/846), 2.37 MiB | 493.00 KiB/s   \r",
        "Receiving objects:  59% (500/846), 2.37 MiB | 493.00 KiB/s   \r"
       ]
      },
      {
       "output_type": "stream",
       "stream": "stdout",
       "text": [
        "remote: Total 846 (delta 0), reused 0 (delta 0)\u001b[K\r\n",
        "Receiving objects:  60% (508/846), 2.37 MiB | 493.00 KiB/s   \r",
        "Receiving objects:  61% (517/846), 2.37 MiB | 493.00 KiB/s   \r",
        "Receiving objects:  62% (525/846), 2.37 MiB | 493.00 KiB/s   \r",
        "Receiving objects:  63% (533/846), 2.37 MiB | 493.00 KiB/s   \r",
        "Receiving objects:  64% (542/846), 2.37 MiB | 493.00 KiB/s   \r",
        "Receiving objects:  65% (550/846), 2.37 MiB | 493.00 KiB/s   \r",
        "Receiving objects:  66% (559/846), 2.37 MiB | 493.00 KiB/s   \r",
        "Receiving objects:  67% (567/846), 2.37 MiB | 493.00 KiB/s   \r",
        "Receiving objects:  68% (576/846), 2.37 MiB | 493.00 KiB/s   \r",
        "Receiving objects:  69% (584/846), 2.37 MiB | 493.00 KiB/s   \r",
        "Receiving objects:  70% (593/846), 2.37 MiB | 493.00 KiB/s   \r",
        "Receiving objects:  71% (601/846), 2.37 MiB | 493.00 KiB/s   \r",
        "Receiving objects:  72% (610/846), 2.37 MiB | 493.00 KiB/s   \r",
        "Receiving objects:  73% (618/846), 2.37 MiB | 493.00 KiB/s   \r",
        "Receiving objects:  74% (627/846), 2.37 MiB | 493.00 KiB/s   \r",
        "Receiving objects:  75% (635/846), 2.37 MiB | 493.00 KiB/s   \r",
        "Receiving objects:  76% (643/846), 2.37 MiB | 493.00 KiB/s   \r",
        "Receiving objects:  77% (652/846), 2.37 MiB | 493.00 KiB/s   \r",
        "Receiving objects:  78% (660/846), 2.37 MiB | 493.00 KiB/s   \r",
        "Receiving objects:  79% (669/846), 2.37 MiB | 493.00 KiB/s   \r",
        "Receiving objects:  80% (677/846), 2.37 MiB | 493.00 KiB/s   \r",
        "Receiving objects:  81% (686/846), 2.37 MiB | 493.00 KiB/s   \r",
        "Receiving objects:  82% (694/846), 2.37 MiB | 493.00 KiB/s   \r",
        "Receiving objects:  83% (703/846), 2.37 MiB | 493.00 KiB/s   \r",
        "Receiving objects:  84% (711/846), 2.37 MiB | 493.00 KiB/s   \r"
       ]
      },
      {
       "output_type": "stream",
       "stream": "stdout",
       "text": [
        "Receiving objects:  85% (720/846), 2.37 MiB | 493.00 KiB/s   \r",
        "Receiving objects:  86% (728/846), 2.37 MiB | 493.00 KiB/s   \r",
        "Receiving objects:  87% (737/846), 2.37 MiB | 493.00 KiB/s   \r",
        "Receiving objects:  88% (745/846), 2.37 MiB | 493.00 KiB/s   \r",
        "Receiving objects:  89% (753/846), 2.37 MiB | 493.00 KiB/s   \r",
        "Receiving objects:  90% (762/846), 2.37 MiB | 493.00 KiB/s   \r",
        "Receiving objects:  91% (770/846), 2.72 MiB | 516.00 KiB/s   \r",
        "Receiving objects:  92% (779/846), 2.72 MiB | 516.00 KiB/s   \r",
        "Receiving objects:  93% (787/846), 2.72 MiB | 516.00 KiB/s   \r",
        "Receiving objects:  94% (796/846), 2.72 MiB | 516.00 KiB/s   \r",
        "Receiving objects:  95% (804/846), 2.72 MiB | 516.00 KiB/s   \r",
        "Receiving objects:  96% (813/846), 2.72 MiB | 516.00 KiB/s   \r",
        "Receiving objects:  97% (821/846), 2.72 MiB | 516.00 KiB/s   \r",
        "Receiving objects:  98% (830/846), 2.72 MiB | 516.00 KiB/s   \r",
        "Receiving objects:  99% (838/846), 2.72 MiB | 516.00 KiB/s   \r",
        "Receiving objects: 100% (846/846), 2.72 MiB | 516.00 KiB/s   \r",
        "Receiving objects: 100% (846/846), 2.73 MiB | 506.00 KiB/s, done.\r\n",
        "Resolving deltas:   0% (0/381)   \r",
        "Resolving deltas:   1% (6/381)   \r",
        "Resolving deltas:   2% (8/381)   \r",
        "Resolving deltas:   3% (12/381)   \r",
        "Resolving deltas:   4% (18/381)   \r",
        "Resolving deltas:   6% (23/381)   \r",
        "Resolving deltas:   8% (31/381)   \r",
        "Resolving deltas:   9% (38/381)   \r",
        "Resolving deltas:  10% (39/381)   \r",
        "Resolving deltas:  11% (42/381)   \r",
        "Resolving deltas:  12% (47/381)   \r",
        "Resolving deltas:  13% (53/381)   \r",
        "Resolving deltas:  14% (54/381)   \r",
        "Resolving deltas:  15% (59/381)   \r",
        "Resolving deltas:  16% (62/381)   \r",
        "Resolving deltas:  17% (68/381)   \r",
        "Resolving deltas:  18% (70/381)   \r",
        "Resolving deltas:  19% (73/381)   \r",
        "Resolving deltas:  20% (78/381)   \r",
        "Resolving deltas:  21% (81/381)   \r",
        "Resolving deltas:  23% (91/381)   \r",
        "Resolving deltas:  24% (92/381)   \r",
        "Resolving deltas:  28% (110/381)   \r",
        "Resolving deltas:  31% (121/381)   \r",
        "Resolving deltas:  32% (122/381)   \r",
        "Resolving deltas:  34% (133/381)   \r",
        "Resolving deltas:  35% (137/381)   \r",
        "Resolving deltas:  38% (147/381)   \r",
        "Resolving deltas:  41% (157/381)   \r",
        "Resolving deltas:  42% (161/381)   \r",
        "Resolving deltas:  43% (166/381)   \r",
        "Resolving deltas:  45% (173/381)   \r",
        "Resolving deltas:  47% (182/381)   \r",
        "Resolving deltas:  48% (183/381)   \r",
        "Resolving deltas:  49% (187/381)   \r",
        "Resolving deltas:  50% (193/381)   \r",
        "Resolving deltas:  51% (196/381)   \r",
        "Resolving deltas:  61% (235/381)   \r",
        "Resolving deltas:  62% (237/381)   \r",
        "Resolving deltas:  64% (247/381)   \r",
        "Resolving deltas:  67% (259/381)   \r",
        "Resolving deltas:  68% (262/381)   \r"
       ]
      },
      {
       "output_type": "stream",
       "stream": "stdout",
       "text": [
        "Resolving deltas:  75% (289/381)   \r",
        "Resolving deltas:  76% (291/381)   \r",
        "Resolving deltas:  90% (344/381)   \r",
        "Resolving deltas:  91% (347/381)   \r",
        "Resolving deltas:  92% (351/381)   \r",
        "Resolving deltas:  93% (356/381)   \r",
        "Resolving deltas:  94% (359/381)   \r",
        "Resolving deltas:  95% (363/381)   \r",
        "Resolving deltas:  96% (366/381)   \r",
        "Resolving deltas:  97% (370/381)   \r",
        "Resolving deltas: 100% (381/381)   \r",
        "Resolving deltas: 100% (381/381), done.\r\n",
        "Checking connectivity... done.\r\n"
       ]
      }
     ],
     "prompt_number": 6
    },
    {
     "cell_type": "code",
     "collapsed": false,
     "input": [
      "!ls /Users/qingpeng/.ipython/profile_default/static/custom"
     ],
     "language": "python",
     "metadata": {},
     "outputs": [
      {
       "output_type": "stream",
       "stream": "stdout",
       "text": [
        "README.md                \u001b[34mpublishing\u001b[m\u001b[m               \u001b[34musability\u001b[m\u001b[m\r\n",
        "custom.example.js        \u001b[34mslidemode\u001b[m\u001b[m                \u001b[34mwiki-images\u001b[m\u001b[m\r\n",
        "helper-functions.js      \u001b[34mstyling\u001b[m\u001b[m\r\n",
        "hierarchical_collapse.js \u001b[34mtesting\u001b[m\u001b[m\r\n"
       ]
      }
     ],
     "prompt_number": 7
    },
    {
     "cell_type": "code",
     "collapsed": false,
     "input": [
      "!cd /Users/qingpeng/.ipython/profile_default/static/custom\n"
     ],
     "language": "python",
     "metadata": {},
     "outputs": [],
     "prompt_number": 8
    },
    {
     "cell_type": "code",
     "collapsed": false,
     "input": [
      "!more README.md"
     ],
     "language": "python",
     "metadata": {},
     "outputs": [
      {
       "output_type": "stream",
       "stream": "stdout",
       "text": [
        "README.md: No such file or directory\r\n"
       ]
      }
     ],
     "prompt_number": 9
    },
    {
     "cell_type": "code",
     "collapsed": false,
     "input": [
      "require(['/static/custom/styling/css-selector/main.js']) "
     ],
     "language": "python",
     "metadata": {},
     "outputs": [
      {
       "metadata": {},
       "output_type": "pyout",
       "prompt_number": 10,
       "text": [
        "array(['/static/custom/styling/css-selector/main.js'], \n",
        "      dtype='|S43')"
       ]
      }
     ],
     "prompt_number": 10
    },
    {
     "cell_type": "code",
     "collapsed": false,
     "input": [
      "%%writefile custom.js\n",
      "$([IPython.events]).on('app_initialized.NotebookApp', function(){\n",
      "    require(['/static/custom/clean_start.js']);\n",
      "    require(['/static/custom/slidemode/main.js']);\n",
      "})"
     ],
     "language": "python",
     "metadata": {},
     "outputs": [
      {
       "output_type": "stream",
       "stream": "stdout",
       "text": [
        "Overwriting custom.js\n"
       ]
      }
     ],
     "prompt_number": 1
    },
    {
     "cell_type": "code",
     "collapsed": false,
     "input": [
      "!more custom.js"
     ],
     "language": "python",
     "metadata": {},
     "outputs": [
      {
       "output_type": "stream",
       "stream": "stdout",
       "text": [
        "\u001b[?1h\u001b=$([IPython.events]).on('app_initialized.NotebookApp', function(){\r\n",
        "    require(['/static/custom/clean_start.js']);\r\n",
        "    require(['/static/custom/slidemode/main.js']);\r\n",
        "})\r\n",
        "\r",
        "\u001b[K\u001b[?1l\u001b>"
       ]
      }
     ],
     "prompt_number": 2
    },
    {
     "cell_type": "code",
     "collapsed": false,
     "input": [],
     "language": "python",
     "metadata": {},
     "outputs": []
    }
   ],
   "metadata": {}
  }
 ]
}